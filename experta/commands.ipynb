{
 "cells": [
  {
   "cell_type": "code",
   "execution_count": 1,
   "metadata": {},
   "outputs": [],
   "source": [
    "from experta import *"
   ]
  },
  {
   "cell_type": "markdown",
   "metadata": {},
   "source": [
    "Facts"
   ]
  },
  {
   "cell_type": "code",
   "execution_count": 2,
   "metadata": {},
   "outputs": [
    {
     "name": "stdout",
     "output_type": "stream",
     "text": [
      "x\n",
      "1\n"
     ]
    }
   ],
   "source": [
    "# Fact as a subclass of dict\n",
    "f = Fact('x', 'y', 'z', a=1, b=2)\n",
    "print(f[0])\n",
    "print(f['a'])"
   ]
  },
  {
   "cell_type": "code",
   "execution_count": 3,
   "metadata": {},
   "outputs": [
    {
     "name": "stdout",
     "output_type": "stream",
     "text": [
      "<Undeclared Fact> Alert('red')\n",
      "<Undeclared Fact> Status('critical')\n"
     ]
    }
   ],
   "source": [
    "# subclass Fact to express different kinds of data or extend it with your custom functionality\n",
    "class Alert(Fact):\n",
    "    \"\"\"The alert level.\"\"\"\n",
    "    pass\n",
    "\n",
    "class Status(Fact):\n",
    "    \"\"\"The system status.\"\"\"\n",
    "    pass\n",
    "\n",
    "f1 = Alert('red')\n",
    "print(f1)\n",
    "\n",
    "f2 = Status('critical')\n",
    "print(f2)"
   ]
  },
  {
   "cell_type": "markdown",
   "metadata": {},
   "source": [
    "Rules"
   ]
  },
  {
   "cell_type": "code",
   "execution_count": 4,
   "metadata": {},
   "outputs": [],
   "source": [
    "# Rules definition - LHS: patterns/ conditions under which rule will be fired, RHS: set of actions to perform when rule is fired\n",
    "class MyFact(Fact):\n",
    "    pass\n",
    "\n",
    "@Rule(MyFact()) # This is the LHS\n",
    "def match_with_every_myfact():\n",
    "    \"\"\"This rule will match with every instance of `MyFact`.\"\"\"\n",
    "    # This is the RHS\n",
    "    pass\n",
    "\n",
    "@Rule(Fact('animal', family='felinae'))\n",
    "def match_with_cats():\n",
    "    \"\"\"\n",
    "    Match with every `Fact` which:\n",
    "    * f[0] == 'animal'\n",
    "    * f['family'] == 'felinae'\n",
    "    \"\"\"\n",
    "    print(\"Meow!\")"
   ]
  },
  {
   "cell_type": "code",
   "execution_count": 5,
   "metadata": {},
   "outputs": [],
   "source": [
    "# Use of logic operators to express complex LHS conditions\n",
    "# Check experta.operator module\n",
    "\n",
    "class User(Fact):\n",
    "    pass\n",
    "@Rule(\n",
    "    AND(\n",
    "        OR(User('admin'),\n",
    "            User('root')),\n",
    "        NOT(Fact('drop-privileges'))\n",
    "    )\n",
    ")\n",
    "def the_user_has_power():\n",
    "    \"\"\"\n",
    "    The user is a privileged one and we are not dropping privileges.\n",
    "    \"\"\"\n",
    "    pass"
   ]
  },
  {
   "cell_type": "markdown",
   "metadata": {},
   "source": [
    "DefFacts"
   ]
  },
  {
   "cell_type": "code",
   "execution_count": 6,
   "metadata": {},
   "outputs": [],
   "source": [
    "# DefFacts decorator to define a set of facts\n",
    "# Will be called everytime the reset method is called\n",
    "\n",
    "@DefFacts()\n",
    "def needed_data():\n",
    "    yield Fact(best_color=\"red\")\n",
    "    yield Fact(best_body=\"medium\")\n",
    "    yield Fact(best_sweetness=\"dry\")"
   ]
  },
  {
   "cell_type": "markdown",
   "metadata": {},
   "source": [
    "KnowledgeEngine"
   ]
  },
  {
   "cell_type": "code",
   "execution_count": 38,
   "metadata": {},
   "outputs": [
    {
     "name": "stdout",
     "output_type": "stream",
     "text": [
      "Hi Name! How is the weather in Location?\n"
     ]
    }
   ],
   "source": [
    "from experta import *\n",
    "class Greetings(KnowledgeEngine):\n",
    "    @DefFacts()\n",
    "    def _initial_action(self):\n",
    "        yield Fact(action=\"greet\")\n",
    "\n",
    "    \n",
    "    @Rule(Fact(action=\"greet\"), \n",
    "          NOT(Fact(name=W())))\n",
    "    def ask_name(self):\n",
    "        self.declare(Fact(name=\"Name\"))\n",
    "    \n",
    "    @Rule(Fact(action=\"greet\"), \n",
    "          NOT(Fact(location=W())))\n",
    "    def ask_location(self):\n",
    "        self.declare(Fact(location=\"Location\"))\n",
    "\n",
    "    @Rule(Fact(action=\"greet\"), \n",
    "          Fact(name=MATCH.name),  # Use MATCH to bind the fact's value to a variable\n",
    "          Fact(location=MATCH.location))\n",
    "    def greet(self, name, location):  # Access the matched values as parameters\n",
    "        print(f\"Hi {name}! How is the weather in {location}?\")\n",
    "\n",
    "engine = Greetings()\n",
    "engine.reset() # Prepare the engine for the execution.\n",
    "engine.run() # Run it!"
   ]
  },
  {
   "cell_type": "markdown",
   "metadata": {},
   "source": [
    "Handling Facts"
   ]
  },
  {
   "cell_type": "code",
   "execution_count": 17,
   "metadata": {},
   "outputs": [
    {
     "name": "stdout",
     "output_type": "stream",
     "text": [
      "<f-0>: InitialFact()\n",
      "<f-1>: Fact(score=5)\n"
     ]
    }
   ],
   "source": [
    "# declare: adds a new fact to the list of fact known by the engine\n",
    "\n",
    "engine = KnowledgeEngine()\n",
    "engine.reset()\n",
    "engine.declare(Fact(score=5))\n",
    "print(engine.facts)"
   ]
  },
  {
   "cell_type": "code",
   "execution_count": 19,
   "metadata": {},
   "outputs": [
    {
     "name": "stdout",
     "output_type": "stream",
     "text": [
      "<f-0>: InitialFact()\n",
      "<f-1>: Fact(score=5)\n",
      "<f-0>: InitialFact()\n"
     ]
    }
   ],
   "source": [
    "# retract: removes an existing fact from the factlist\n",
    "print(engine.facts)\n",
    "engine.retract(1)\n",
    "print(engine.facts)"
   ]
  },
  {
   "cell_type": "code",
   "execution_count": 27,
   "metadata": {},
   "outputs": [
    {
     "name": "stdout",
     "output_type": "stream",
     "text": [
      "Before:\n",
      "<f-0>: InitialFact()\n",
      "<f-1>: Fact(color='red')\n",
      "After:\n",
      "<f-0>: InitialFact()\n",
      "<f-2>: Fact(color='yellow', blink=True)\n"
     ]
    }
   ],
   "source": [
    "# modify: Retracts some fact from the factlist and declares a new one with some changes. Changes are passed as arguments\n",
    "engine = KnowledgeEngine()\n",
    "engine.reset()\n",
    "engine.declare(Fact(color='red'))\n",
    "print(f\"Before:\\n{engine.facts}\")\n",
    "\n",
    "engine.modify(engine.facts[1], color='yellow', blink=True)\n",
    "print(f\"After:\\n{engine.facts}\")"
   ]
  },
  {
   "cell_type": "code",
   "execution_count": 28,
   "metadata": {},
   "outputs": [
    {
     "name": "stdout",
     "output_type": "stream",
     "text": [
      "Before:\n",
      "<f-0>: InitialFact()\n",
      "<f-1>: Fact(color='red')\n",
      "After:\n",
      "<f-0>: InitialFact()\n",
      "<f-1>: Fact(color='red')\n",
      "<f-2>: Fact(color='yellow', blink=True)\n"
     ]
    }
   ],
   "source": [
    "# duplicate: Adds a new fact to the factlist using an existing fact as a template and adding some modifications.\n",
    "engine = KnowledgeEngine()\n",
    "engine.reset()\n",
    "engine.declare(Fact(color='red'))\n",
    "print(f\"Before:\\n{engine.facts}\")\n",
    "\n",
    "engine.duplicate(engine.facts[1], color='yellow', blink=True)\n",
    "print(f\"After:\\n{engine.facts}\")"
   ]
  },
  {
   "cell_type": "markdown",
   "metadata": {},
   "source": [
    "Rule"
   ]
  },
  {
   "cell_type": "code",
   "execution_count": 31,
   "metadata": {},
   "outputs": [],
   "source": [
    "# Salience: This value, by default 0, determines the priority of the rule in relation to the others. Rules with a higher salience will be fired before rules with a lower one\n",
    "@Rule(salience=1)\n",
    "def r1():\n",
    "    pass\n",
    "@Rule(salience=0)\n",
    "def r2():\n",
    "    pass"
   ]
  },
  {
   "cell_type": "code",
   "execution_count": 46,
   "metadata": {},
   "outputs": [
    {
     "name": "stdout",
     "output_type": "stream",
     "text": [
      "rock\n"
     ]
    }
   ],
   "source": [
    "# Nested Matching\n",
    "\n",
    "from experta import *\n",
    "\n",
    "class RockPaperScissor(KnowledgeEngine):\n",
    "    @DefFacts()\n",
    "    def _initial_action(self):\n",
    "        yield Fact(name=\"scissors\", against={\"scissors\": 0, \"rock\": -1, \"paper\": 1})\n",
    "        yield Fact(name=\"paper\", against={\"scissors\": -1, \"rock\": 1, \"paper\": 0})\n",
    "        yield Fact(name=\"rock\", against={\"scissors\": 1, \"rock\": 0, \"paper\": -1})\n",
    "\n",
    "    @Rule(Fact(name=MATCH.name, against__scissors=1, against__paper=-1))\n",
    "    def what_wins_to_scissors_and_losses_to_paper(self,name):\n",
    "        print(name)\n",
    "\n",
    "\n",
    "engine = RockPaperScissor()\n",
    "engine.reset()\n",
    "engine.run()"
   ]
  },
  {
   "cell_type": "code",
   "execution_count": 65,
   "metadata": {},
   "outputs": [
    {
     "name": "stdout",
     "output_type": "stream",
     "text": [
      "<Undeclared Fact> Ship(data=<frozendict {'name': 'SmallShip', 'position': <frozendict {'x': 300, 'y': 200}>, 'parent': <frozendict {'name': 'BigShip', 'position': <frozendict {'x': 300, 'y': 200}>}>}>)\n",
      "COLLISION! SmallShip BigShip\n"
     ]
    }
   ],
   "source": [
    "# Nested matching with arbitrary deep structure\n",
    "class Ship(Fact):\n",
    "    pass\n",
    "\n",
    "ship_1 = Ship(data={\n",
    "    \"name\": \"SmallShip\",\n",
    "    \"position\": {\n",
    "        \"x\": 300,\n",
    "        \"y\": 200\n",
    "    },\n",
    "    \"parent\": {\n",
    "        \"name\": \"BigShip\",\n",
    "        \"position\": {\n",
    "            \"x\": 300,\n",
    "            \"y\": 200\n",
    "        }\n",
    "    }\n",
    "})\n",
    "print(ship_1)\n",
    "\n",
    "class Ships(KnowledgeEngine):\n",
    "    @DefFacts()\n",
    "    def _initial_action(self):\n",
    "        yield ship_1\n",
    "\n",
    "    @Rule(Ship(data__name=MATCH.name1,\n",
    "            data__position__x=MATCH.x1,\n",
    "            data__position__y=MATCH.y1,\n",
    "            data__parent__name=MATCH.name2,\n",
    "            data__parent__position__x=MATCH.x2,\n",
    "            data__parent__position__y=MATCH.y2),\n",
    "            TEST(lambda x1,x2: x1==x2),\n",
    "            TEST(lambda y1,y2: y1==y2))   \n",
    "    def collision_detected(self, name1, name2, **_):\n",
    "        print(\"COLLISION!\", name1, name2)\n",
    "\n",
    "engine = Ships()\n",
    "engine.reset()\n",
    "engine.run()"
   ]
  },
  {
   "cell_type": "code",
   "execution_count": null,
   "metadata": {},
   "outputs": [],
   "source": []
  }
 ],
 "metadata": {
  "kernelspec": {
   "display_name": "Python 3",
   "language": "python",
   "name": "python3"
  },
  "language_info": {
   "codemirror_mode": {
    "name": "ipython",
    "version": 3
   },
   "file_extension": ".py",
   "mimetype": "text/x-python",
   "name": "python",
   "nbconvert_exporter": "python",
   "pygments_lexer": "ipython3",
   "version": "3.10.12"
  }
 },
 "nbformat": 4,
 "nbformat_minor": 2
}
