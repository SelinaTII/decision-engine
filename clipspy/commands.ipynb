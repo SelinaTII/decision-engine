{
 "cells": [
  {
   "cell_type": "markdown",
   "metadata": {},
   "source": [
    "Basic Data Abstractions"
   ]
  },
  {
   "cell_type": "markdown",
   "metadata": {},
   "source": [
    "Ordered Facts"
   ]
  },
  {
   "cell_type": "code",
   "execution_count": 2,
   "metadata": {},
   "outputs": [
    {
     "name": "stdout",
     "output_type": "stream",
     "text": [
      "1\n",
      "[1, 2, 3]\n"
     ]
    }
   ],
   "source": [
    "# Ordered Facts or Implied Facts represent information as a list of elements\n",
    "\n",
    "import clips\n",
    "\n",
    "env = clips.Environment()\n",
    "\n",
    "# Ordered facts can only be asserted as strings\n",
    "fact = env.assert_string('(ordered-fact 1 2 3)')\n",
    "\n",
    "print(fact[0])\n",
    "print(list(fact))"
   ]
  },
  {
   "cell_type": "markdown",
   "metadata": {},
   "source": [
    "Template Facts"
   ]
  },
  {
   "cell_type": "code",
   "execution_count": 11,
   "metadata": {},
   "outputs": [
    {
     "name": "stdout",
     "output_type": "stream",
     "text": [
      "Template: (deftemplate MAIN::person (slot name (type STRING)) (slot surname (type STRING)) (slot birthdate (type SYMBOL)))\n"
     ]
    }
   ],
   "source": [
    "# Template Facts represent data similarly to Python dictionaries. \n",
    "# Require a template to be defined. \n",
    "# Templates are formal descriptions of the data represented by the fact.\n",
    "\n",
    "import clips\n",
    "\n",
    "template_string = \"\"\"\n",
    "(deftemplate person\n",
    "    (slot name (type STRING))\n",
    "    (slot surname (type STRING))\n",
    "    (slot birthdate (type SYMBOL)))\n",
    "\"\"\"\n",
    "\n",
    "env = clips.Environment()\n",
    "\n",
    "env.build(template_string)\n",
    "\n",
    "template = env.find_template('person')\n",
    "\n",
    "print(f\"Template: {template}\")"
   ]
  },
  {
   "cell_type": "code",
   "execution_count": 12,
   "metadata": {},
   "outputs": [
    {
     "name": "stdout",
     "output_type": "stream",
     "text": [
      "(person (name \"John\") (surname \"Doe\") (birthdate 01/01/1970))\n",
      "{'name': 'John', 'surname': 'Doe', 'birthdate': '01/01/1970'}\n"
     ]
    }
   ],
   "source": [
    "fact = template.assert_fact(name='John',\n",
    "                            surname='Doe',\n",
    "                            birthdate=clips.Symbol('01/01/1970'))\n",
    "\n",
    "print(fact)\n",
    "print(dict(fact))"
   ]
  },
  {
   "cell_type": "code",
   "execution_count": 13,
   "metadata": {},
   "outputs": [
    {
     "name": "stdout",
     "output_type": "stream",
     "text": [
      "(person (name \"Leeroy\") (surname \"Jenkins\") (birthdate 11/05/2005))\n"
     ]
    }
   ],
   "source": [
    "fact.modify_slots(name='Leeroy',\n",
    "                  surname='Jenkins',\n",
    "                  birthdate=clips.Symbol('11/05/2005'))\n",
    "\n",
    "for fact in env.facts():\n",
    "    print(fact)"
   ]
  },
  {
   "cell_type": "code",
   "execution_count": 18,
   "metadata": {},
   "outputs": [
    {
     "name": "stdout",
     "output_type": "stream",
     "text": [
      "[instance-name] of MyClass (One 1) (Two 2)\n"
     ]
    }
   ],
   "source": [
    "import clips\n",
    "\n",
    "env = clips.Environment()\n",
    "\n",
    "class_string = \"\"\"\n",
    "(defclass MyClass (is-a USER)\n",
    "  (slot One)\n",
    "  (slot Two))\n",
    "\"\"\"\n",
    "handler_string = \"\"\"\n",
    "(defmessage-handler MyClass handler ()\n",
    "  (+ ?self:One ?self:Two))\n",
    "\"\"\"\n",
    "env.build(class_string)\n",
    "env.build(handler_string)\n",
    "\n",
    "defclass = env.find_class('MyClass')\n",
    "instance = defclass.make_instance('instance-name', One=1, Two=2)\n",
    "retval = instance.send('handler')\n",
    "\n",
    "assert retval == 3\n",
    "\n",
    "for instance in env.instances():\n",
    "    print(instance)"
   ]
  },
  {
   "cell_type": "markdown",
   "metadata": {},
   "source": [
    "Evaluating CLIPS code: quickly evaluate CLIPS statements retrieving their results in Python."
   ]
  },
  {
   "cell_type": "code",
   "execution_count": 19,
   "metadata": {},
   "outputs": [
    {
     "data": {
      "text/plain": [
       "('hammer', 'drill', 'saw', 'screw', 'pliers', 'wrench')"
      ]
     },
     "execution_count": 19,
     "metadata": {},
     "output_type": "execute_result"
    }
   ],
   "source": [
    "# Create a multifield value.\n",
    "\n",
    "import clips\n",
    "\n",
    "env = clips.Environment()\n",
    "\n",
    "env.eval(\"(create$ hammer drill saw screw pliers wrench)\")"
   ]
  },
  {
   "cell_type": "code",
   "execution_count": 22,
   "metadata": {},
   "outputs": [
    {
     "data": {
      "text/plain": [
       "('hammer', 'drill', 1, 2.0)"
      ]
     },
     "execution_count": 22,
     "metadata": {},
     "output_type": "execute_result"
    }
   ],
   "source": [
    "# CLIPS functions can also be called directly without the need of building language specific strings.\n",
    "\n",
    "import clips\n",
    "\n",
    "env = clips.Environment()\n",
    "\n",
    "env.call('create$', clips.Symbol('hammer'), 'drill', 1, 2.0)"
   ]
  },
  {
   "cell_type": "markdown",
   "metadata": {},
   "source": [
    "Defining CLIPS Constructs: must be done in CLIPS language"
   ]
  },
  {
   "cell_type": "code",
   "execution_count": 25,
   "metadata": {},
   "outputs": [
    {
     "name": "stdout",
     "output_type": "stream",
     "text": [
      "(defrule MAIN::my-rule (my-fact first-slot) => (printout t \"My Rule fired!\" crlf))\n"
     ]
    }
   ],
   "source": [
    "# Rule definition example\n",
    "# Use the load or the build functions to define the constructs within the engine.\n",
    "\n",
    "import clips\n",
    "\n",
    "env = clips.Environment()\n",
    "\n",
    "rule = \"\"\"\n",
    "(defrule my-rule\n",
    "  (my-fact first-slot)\n",
    "  =>\n",
    "  (printout t \"My Rule fired!\" crlf))\n",
    "\"\"\"\n",
    "env.build(rule)\n",
    "\n",
    "for rule in env.rules():\n",
    "    print(rule)"
   ]
  },
  {
   "cell_type": "markdown",
   "metadata": {},
   "source": [
    "Embedding Python Code"
   ]
  },
  {
   "cell_type": "code",
   "execution_count": 26,
   "metadata": {},
   "outputs": [
    {
     "data": {
      "text/plain": [
       "('www.example.com', 'www.', 'example', '.com')"
      ]
     },
     "execution_count": 26,
     "metadata": {},
     "output_type": "execute_result"
    }
   ],
   "source": [
    "# Through the define_function method, it is possible to embed Python code within the CLIPS environment.\n",
    "# The Python function will be accessible within CLIPS via its name as if it was defined via the deffunction construct.\n",
    "# In this example, Python regular expression support is added within the CLIPS engine.\n",
    "\n",
    "import re\n",
    "import clips\n",
    "\n",
    "def regex_match(pattern, string):\n",
    "    \"\"\"Match pattern against string returning a multifield\n",
    "    with the first element containing the full match\n",
    "    followed by all captured groups.\n",
    "\n",
    "    \"\"\"\n",
    "    match = re.match(pattern, string)\n",
    "    if match is not None:\n",
    "        return (match.group(),) + match.groups()\n",
    "    else:\n",
    "        return []\n",
    "\n",
    "env = clips.Environment()\n",
    "env.define_function(regex_match)\n",
    "\n",
    "env.eval('(regex_match \"(www.)(.*)(.com)\" \"www.example.com\")')"
   ]
  },
  {
   "cell_type": "markdown",
   "metadata": {},
   "source": [
    "Facts may be added to the fact-list (using the assert command), removed from the fact-list (using the retract command), modified (using the modify command), or duplicated (using the duplicate command) \n",
    "\n",
    "If a fact is asserted into the fact-list that exactly matches an already existing fact, the new assertion will be ignored\n",
    "(however, this behavior can be changed using the set-fact-duplication function).\n",
    "\n",
    "Some commands, such as the retract, modify, and duplicate commands, require a fact to be\n",
    "specified. A fact can be specified either by fact-index or fact-address. Whenever a fact is asserted\n",
    "it is given a unique integer index called a fact-index. Fact-indices start at one and are incremented\n",
    "by one for each new fact. When a fact is modified, its fact-index remains unchanged. Whenever a\n",
    "reset or clear command is given, the fact-indices restart at one. A fact may also be specified\n",
    "through the use of a fact-address. A fact-address can be obtained by capturing the return value of\n",
    "commands which return fact addresses (such as assert, modify, and duplicate) or by binding a\n",
    "variable to the fact address of a fact which matches a pattern on the LHS of a rule"
   ]
  },
  {
   "cell_type": "markdown",
   "metadata": {},
   "source": [
    "Initial Facts\n",
    "\n",
    "The deffacts construct allows a set of a priori or initial knowledge to be specified as a collection\n",
    "of facts. When the CLIPS environment is reset (using the reset command) every fact specified\n",
    "within a deffacts construct in the CLIPS knowledge base is added to the fact-list."
   ]
  },
  {
   "cell_type": "markdown",
   "metadata": {},
   "source": [
    "Initial Objects\n",
    "\n",
    "The definstances construct allows a set of a priori or initial knowledge to be specified as a\n",
    "collection of instances of user-defined classes. When the CLIPS environment is reset (using the\n",
    "reset command) every instance specified within a definstances construct in the CLIPS knowledge\n",
    "base is added to the instance-list."
   ]
  },
  {
   "cell_type": "markdown",
   "metadata": {},
   "source": [
    "Global Variables\n",
    "\n",
    "The defglobal construct allows variables to be defined which are global in scope throughout the\n",
    "CLIPS environment."
   ]
  },
  {
   "cell_type": "markdown",
   "metadata": {},
   "source": [
    "If\n",
    "the activations item is being watched (as a result of the watch command), then an\n",
    "informational message will be displayed each time a rule is activated or deactivated."
   ]
  },
  {
   "cell_type": "markdown",
   "metadata": {},
   "source": [
    "Conflict Resolution Strategies: \n",
    "\n",
    "depth, breadth, simplicity, complexity, lex, mea, and random. \n",
    "\n",
    "The default strategy is depth. \n",
    "\n",
    "The current strategy can be set by using the set-strategy command"
   ]
  },
  {
   "cell_type": "markdown",
   "metadata": {},
   "source": [
    "The preferred mechanisms in CLIPS for ordering the\n",
    "execution of rules are salience and modules. Salience allows one to explicitly specify that one rule\n",
    "should be executed before another rule. Modules allow one to explicitly specify that all of the rules\n",
    "in a particular group (module) should be executed before all of the rules in a different group."
   ]
  },
  {
   "cell_type": "code",
   "execution_count": null,
   "metadata": {},
   "outputs": [],
   "source": []
  }
 ],
 "metadata": {
  "kernelspec": {
   "display_name": "Python 3",
   "language": "python",
   "name": "python3"
  },
  "language_info": {
   "codemirror_mode": {
    "name": "ipython",
    "version": 3
   },
   "file_extension": ".py",
   "mimetype": "text/x-python",
   "name": "python",
   "nbconvert_exporter": "python",
   "pygments_lexer": "ipython3",
   "version": "3.10.12"
  }
 },
 "nbformat": 4,
 "nbformat_minor": 2
}
